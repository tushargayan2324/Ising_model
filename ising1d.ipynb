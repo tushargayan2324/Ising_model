{
 "cells": [
  {
   "cell_type": "code",
   "execution_count": 3,
   "metadata": {},
   "outputs": [],
   "source": [
    "using OffsetArrays\n"
   ]
  },
  {
   "cell_type": "code",
   "execution_count": 4,
   "metadata": {},
   "outputs": [
    {
     "data": {
      "text/plain": [
       "energy (generic function with 1 method)"
      ]
     },
     "execution_count": 4,
     "metadata": {},
     "output_type": "execute_result"
    }
   ],
   "source": [
    "function energy(M)\n",
    "    J::Float64 = 1.0\n",
    "    N::Int64 = size(M)[1]\n",
    "\n",
    "    E::Float64 = 0\n",
    "\n",
    "    for i=1:1:N-1\n",
    "        E += M[i]*M[i+1]\n",
    "    end\n",
    "\n",
    "    return -J*(E)\n",
    "end\n"
   ]
  },
  {
   "cell_type": "code",
   "execution_count": 5,
   "metadata": {},
   "outputs": [
    {
     "name": "stdout",
     "output_type": "stream",
     "text": [
      "-5.0"
     ]
    }
   ],
   "source": [
    "print(energy([1,-1,1,1,1,1,1,1,1,1]))"
   ]
  },
  {
   "cell_type": "code",
   "execution_count": 6,
   "metadata": {},
   "outputs": [
    {
     "data": {
      "text/plain": [
       "magnetization (generic function with 1 method)"
      ]
     },
     "execution_count": 6,
     "metadata": {},
     "output_type": "execute_result"
    }
   ],
   "source": [
    "function magnetization(M)\n",
    "    m::Float64 = 0\n",
    "    for i=1:1:size(M)[1]\n",
    "        m+=M[i]\n",
    "    end\n",
    "    return abs(m)\n",
    "end\n"
   ]
  },
  {
   "cell_type": "code",
   "execution_count": 7,
   "metadata": {},
   "outputs": [
    {
     "data": {
      "text/plain": [
       "monte (generic function with 1 method)"
      ]
     },
     "execution_count": 7,
     "metadata": {},
     "output_type": "execute_result"
    }
   ],
   "source": [
    "function monte(M, T)\n",
    "    N = size(M)[1]\n",
    "    \n",
    "    time_steps = 10^3\n",
    "    \n",
    "    for i = 1:time_steps\n",
    "        a = rand((2:N-1)) #random number\n",
    "        spin = M[a]\n",
    "        #print(spin,\" \",a,\" \",N)\n",
    "        neighbours = M[a+1] + M[a-1]\n",
    "        dE = 2*spin*neighbours\n",
    "        #print(exp(-dE/T))\n",
    "        \n",
    "        tent = minimum([1.0, exp(-dE/T)])\n",
    "        \n",
    "        prob = rand() # rand no between 0 1 uniformly distributed\n",
    "        #print(prob,\" \",exp(-dE/T))\n",
    "        if tent > prob\n",
    "            spin = -1*spin\n",
    "        else\n",
    "            spin = spin\n",
    "        #M[a] = spin\n",
    "        end\n",
    "        M[a] = spin\n",
    "        #println(M)\n",
    "    end\n",
    "    return M\n",
    "end\n"
   ]
  },
  {
   "cell_type": "code",
   "execution_count": 8,
   "metadata": {},
   "outputs": [
    {
     "data": {
      "text/plain": [
       "35×1 Array{Float64,2}:\n",
       " 0.0\n",
       " 0.0\n",
       " 0.0\n",
       " 0.0\n",
       " 0.0\n",
       " 0.0\n",
       " 0.0\n",
       " 0.0\n",
       " 0.0\n",
       " 0.0\n",
       " 0.0\n",
       " 0.0\n",
       " 0.0\n",
       " ⋮\n",
       " 0.0\n",
       " 0.0\n",
       " 0.0\n",
       " 0.0\n",
       " 0.0\n",
       " 0.0\n",
       " 0.0\n",
       " 0.0\n",
       " 0.0\n",
       " 0.0\n",
       " 0.0\n",
       " 0.0"
      ]
     },
     "execution_count": 8,
     "metadata": {},
     "output_type": "execute_result"
    }
   ],
   "source": [
    "Pts = 35 #no. of points on Energy-Temp graph\n",
    "\n",
    "temp_array = LinRange(0.001,2,Pts)\n",
    "Erg_array = zeros(Pts,1) #LinRange(0.001,5,Pts)\n",
    "Mag_array = zeros(Pts,1) #LinRange(0.001,5,Pts)\n"
   ]
  },
  {
   "cell_type": "code",
   "execution_count": 9,
   "metadata": {},
   "outputs": [
    {
     "data": {
      "text/plain": [
       "main (generic function with 1 method)"
      ]
     },
     "execution_count": 9,
     "metadata": {},
     "output_type": "execute_result"
    }
   ],
   "source": [
    "function main()\n",
    "    for i=1:Pts\n",
    "        print(i, \" \")\n",
    "        N = 10 #??\n",
    "        Lat = rand((-1,1),100)\n",
    "        magn_cal = 0\n",
    "        erg_cal = 0\n",
    "        #for k=1:2^N-1\n",
    "        #    Lat = monte(Lat,temp_array[i])\n",
    "        #end\n",
    "        for j=1:2^N\n",
    "            Lat = monte(Lat,temp_array[i])\n",
    "            magn_cal+=magnetization(Lat[2:size(Lat,1)-1])/2^N\n",
    "            erg_cal+=energy(Lat[2:size(Lat,1)-1])/2^N\n",
    "        end\n",
    "        Mag_array[i] = magn_cal/(100)\n",
    "        Erg_array[i] = erg_cal/(100)\n",
    "    end\n",
    "    return Mag_array,Erg_array\n",
    "end"
   ]
  },
  {
   "cell_type": "code",
   "execution_count": 38,
   "metadata": {},
   "outputs": [
    {
     "data": {
      "text/plain": [
       "tent_C (generic function with 1 method)"
      ]
     },
     "execution_count": 38,
     "metadata": {},
     "output_type": "execute_result"
    }
   ],
   "source": [
    "using PyPlot\n",
    "#Ts = range(0.1, 1.5, length=100)\n",
    "#exact_C(T) = 1/(T * cosh(1/T))^2\n",
    "exact_C(T) = -tanh(1/T)\n",
    "tent_C(T) = tanh(T)\n"
   ]
  },
  {
   "cell_type": "code",
   "execution_count": 16,
   "metadata": {},
   "outputs": [
    {
     "name": "stdout",
     "output_type": "stream",
     "text": [
      "1 2 3 4 5 6 7 8 9 10 11 12 13 14 15 16 17 18 19 20 21 22 23 24 25 26 27 28 29 30 31 32 33 34 35 "
     ]
    },
    {
     "data": {
      "text/plain": [
       "([0.9010546875; 0.43794921875; … ; 0.12880859375; 0.12828125], [-0.965625; -0.94931640625; … ; -0.45884765625; -0.4438671875])"
      ]
     },
     "execution_count": 16,
     "metadata": {},
     "output_type": "execute_result"
    }
   ],
   "source": [
    "M_arra, E_arra = main()"
   ]
  },
  {
   "cell_type": "code",
   "execution_count": 42,
   "metadata": {},
   "outputs": [
    {
     "data": {
      "image/png": "[encoded data removed]",
      "text/plain": [
       "Figure(PyObject <Figure size 640x480 with 1 Axes>)"
      ]
     },
     "metadata": {},
     "output_type": "display_data"
    },
    {
     "data": {
      "text/plain": [
       "PyObject <matplotlib.legend.Legend object at 0x7f10f4a20430>"
      ]
     },
     "execution_count": 42,
     "metadata": {},
     "output_type": "execute_result"
    }
   ],
   "source": [
    "Ts = temp_array\n",
    "plt.plot(Ts, exact_C.(Ts), label=\"Exact_energy\")\n",
    "#plt.plot(Ts, tent_C.(Ts), label=\"Exact_energy\")\n",
    "\n",
    "\n",
    "plt.plot(temp_array, E_arra, label=\"MC_Energy\", marker=\"o\")\n",
    "#plt.plot(temp_array, M_arra, label=\"MC_Magnetization\", marker=\"v\")\n",
    "\n",
    "plt.xlabel(raw\"$T$\")\n",
    "plt.ylabel(raw\"$f(T)$\")\n",
    "#plt.xlim([0, nothing])\n",
    "#plt.ylim([0, nothing])\n",
    "plt.legend()\n"
   ]
  }
 ],
 "metadata": {
  "kernelspec": {
   "display_name": "Julia 1.4.1",
   "language": "julia",
   "name": "julia-1.4"
  },
  "language_info": {
   "file_extension": ".jl",
   "mimetype": "application/julia",
   "name": "julia",
   "version": "1.4.1"
  }
 },
 "nbformat": 4,
 "nbformat_minor": 4
}
