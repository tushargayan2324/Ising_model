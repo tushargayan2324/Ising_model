{
 "cells": [
  {
   "cell_type": "code",
   "execution_count": 1,
   "metadata": {},
   "outputs": [
    {
     "data": {
      "text/plain": [
       "mod_new (generic function with 1 method)"
      ]
     },
     "execution_count": 1,
     "metadata": {},
     "output_type": "execute_result"
    }
   ],
   "source": [
    "function mod_new(n,N)\n",
    "    if n == 0\n",
    "        return 1\n",
    "    elseif n%N == 0\n",
    "        return n\n",
    "    else\n",
    "        return n%N\n",
    "    end\n",
    "end"
   ]
  },
  {
   "cell_type": "code",
   "execution_count": 2,
   "metadata": {},
   "outputs": [
    {
     "data": {
      "text/plain": [
       "energy (generic function with 1 method)"
      ]
     },
     "execution_count": 2,
     "metadata": {},
     "output_type": "execute_result"
    }
   ],
   "source": [
    "function energy(M)\n",
    "    J::Float64 = 1.0\n",
    "    N::Int64 = size(M)[1]\n",
    "\n",
    "    E::Float64 = 0\n",
    "\n",
    "    for i=1:N\n",
    "        E += M[mod_new(i,N)]*M[mod_new(i+1,N)]\n",
    "    end\n",
    "\n",
    "    return -J*(E)\n",
    "end\n"
   ]
  },
  {
   "cell_type": "code",
   "execution_count": 3,
   "metadata": {},
   "outputs": [
    {
     "data": {
      "text/plain": [
       "magnetization (generic function with 1 method)"
      ]
     },
     "execution_count": 3,
     "metadata": {},
     "output_type": "execute_result"
    }
   ],
   "source": [
    "function magnetization(M)\n",
    "    m = 0\n",
    "    for i=1:size(M)[1]\n",
    "        m+=M[i]\n",
    "    end\n",
    "    return abs(m)\n",
    "end\n"
   ]
  },
  {
   "cell_type": "code",
   "execution_count": 46,
   "metadata": {},
   "outputs": [
    {
     "data": {
      "text/plain": [
       "monte (generic function with 1 method)"
      ]
     },
     "execution_count": 46,
     "metadata": {},
     "output_type": "execute_result"
    }
   ],
   "source": [
    "function monte(M, T)\n",
    "    N = size(M)[1]\n",
    "    \n",
    "    time_steps = 10^3\n",
    "    \n",
    "    for i = 1:time_steps\n",
    "        a = rand((1:N)) #random number\n",
    "        spin = M[a]\n",
    "        neighbours = M[mod_new((a+1),N)] + M[mod_new((a-1),N)]\n",
    "        dE = 2*spin*neighbours\n",
    "        #dE = del_E_1(M,a)\n",
    "        \n",
    "        tent = minimum([1.0, exp(-dE/T)])\n",
    "        \n",
    "        prob = rand() # rand no between 0 1 uniformly distributed\n",
    "        \n",
    "        if tent > prob\n",
    "            spin = -1*spin\n",
    "        else\n",
    "            spin = spin\n",
    "        \n",
    "        end\n",
    "        M[a] = spin\n",
    "        \n",
    "    end\n",
    "    return M\n",
    "end\n"
   ]
  },
  {
   "cell_type": "code",
   "execution_count": 83,
   "metadata": {},
   "outputs": [
    {
     "data": {
      "text/plain": [
       "60×1 Array{Float64,2}:\n",
       " 0.0\n",
       " 0.0\n",
       " 0.0\n",
       " 0.0\n",
       " 0.0\n",
       " 0.0\n",
       " 0.0\n",
       " 0.0\n",
       " 0.0\n",
       " 0.0\n",
       " 0.0\n",
       " 0.0\n",
       " 0.0\n",
       " ⋮\n",
       " 0.0\n",
       " 0.0\n",
       " 0.0\n",
       " 0.0\n",
       " 0.0\n",
       " 0.0\n",
       " 0.0\n",
       " 0.0\n",
       " 0.0\n",
       " 0.0\n",
       " 0.0\n",
       " 0.0"
      ]
     },
     "execution_count": 83,
     "metadata": {},
     "output_type": "execute_result"
    }
   ],
   "source": [
    "Pts = 60 #no. of points on Energy-Temp graph\n",
    "\n",
    "temp_array = LinRange(0.001,1.6,Pts)\n",
    "Erg_array = zeros(Pts,1) #LinRange(0.001,5,Pts)\n",
    "Mag_array = zeros(Pts,1) #LinRange(0.001,5,Pts)\n"
   ]
  },
  {
   "cell_type": "code",
   "execution_count": 79,
   "metadata": {},
   "outputs": [
    {
     "data": {
      "text/plain": [
       "main (generic function with 1 method)"
      ]
     },
     "execution_count": 79,
     "metadata": {},
     "output_type": "execute_result"
    }
   ],
   "source": [
    "function main()\n",
    "    for i=1:Pts\n",
    "        print(i, \" \")\n",
    "        lat_len = 100 #size of lattice\n",
    "        N = 10 #??\n",
    "        Lat = rand((-1,1),lat_len)\n",
    "        magn_cal = 0\n",
    "        erg_cal = 0\n",
    "        #for k=1:2^N-2\n",
    "            #Lat = monte(Lat,temp_array[i])\n",
    "        #end\n",
    "        for j=1:2^N\n",
    "            Lat = monte(Lat,temp_array[i])\n",
    "            magn_cal+=magnetization(Lat)/2^N\n",
    "            erg_cal+=energy(Lat)/2^N\n",
    "        end\n",
    "        Mag_array[i] = magn_cal/(lat_len)\n",
    "        Erg_array[i] = erg_cal/(lat_len)\n",
    "    end\n",
    "    return Mag_array,Erg_array\n",
    "end"
   ]
  },
  {
   "cell_type": "code",
   "execution_count": 80,
   "metadata": {},
   "outputs": [
    {
     "data": {
      "text/plain": [
       "tent_C (generic function with 1 method)"
      ]
     },
     "execution_count": 80,
     "metadata": {},
     "output_type": "execute_result"
    }
   ],
   "source": [
    "using PyPlot\n",
    "#Ts = range(0.1, 1.5, length=100)\n",
    "#exact_C(T) = 1/(T * cosh(1/T))^2\n",
    "exact_C(T) = -tanh(1/T)\n",
    "tent_C(T) = tanh(T)\n"
   ]
  },
  {
   "cell_type": "code",
   "execution_count": 84,
   "metadata": {},
   "outputs": [
    {
     "name": "stdout",
     "output_type": "stream",
     "text": [
      "1 2 3 4 5 6 7 8 9 10 11 12 13 14 15 16 17 18 19 20 21 22 23 24 25 26 27 28 29 30 31 32 33 34 35 36 37 38 39 40 41 42 43 44 45 46 47 48 49 50 51 52 53 54 55 56 57 58 59 60 "
     ]
    },
    {
     "data": {
      "text/plain": [
       "([0.941953125; 0.9621484375; … ; 0.14673828125; 0.14892578125], [-0.9967578125; -0.997265625; … ; -0.5590234375; -0.557734375])"
      ]
     },
     "execution_count": 84,
     "metadata": {},
     "output_type": "execute_result"
    }
   ],
   "source": [
    "M_arra, E_arra = main()"
   ]
  },
  {
   "cell_type": "code",
   "execution_count": 85,
   "metadata": {},
   "outputs": [
    {
     "data": {
      "image/png": "[encoded data removed]",
      "text/plain": [
       "Figure(PyObject <Figure size 640x480 with 1 Axes>)"
      ]
     },
     "metadata": {},
     "output_type": "display_data"
    },
    {
     "data": {
      "text/plain": [
       "PyObject <matplotlib.legend.Legend object at 0x7fb77eeff370>"
      ]
     },
     "execution_count": 85,
     "metadata": {},
     "output_type": "execute_result"
    }
   ],
   "source": [
    "Ts = temp_array\n",
    "plt.plot(Ts, exact_C.(Ts), label=\"Exact_energy\")\n",
    "#plt.plot(Ts, tent_C.(Ts), label=\"Exact_energy\")\n",
    "\n",
    "\n",
    "plt.plot(temp_array, E_arra, label=\"MC_Energy\", marker=\"o\")\n",
    "#plt.plot(temp_array, M_arra, label=\"MC_Magnetization\", marker=\"v\")\n",
    "\n",
    "plt.xlabel(raw\"$T$\")\n",
    "plt.ylabel(raw\"$f(T)$\")\n",
    "#plt.xlim([0, nothing])\n",
    "#plt.ylim([0, nothing])\n",
    "plt.legend()\n"
   ]
  }
 ],
 "metadata": {
  "kernelspec": {
   "display_name": "Julia 1.4.1",
   "language": "julia",
   "name": "julia-1.4"
  },
  "language_info": {
   "file_extension": ".jl",
   "mimetype": "application/julia",
   "name": "julia",
   "version": "1.4.1"
  }
 },
 "nbformat": 4,
 "nbformat_minor": 4
}
