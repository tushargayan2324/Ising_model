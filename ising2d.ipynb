{
 "cells": [
  {
   "cell_type": "code",
   "execution_count": 38,
   "metadata": {},
   "outputs": [
    {
     "data": {
      "text/plain": [
       "energy (generic function with 1 method)"
      ]
     },
     "execution_count": 38,
     "metadata": {},
     "output_type": "execute_result"
    }
   ],
   "source": [
    "function energy(M)\n",
    "    J = -1.0\n",
    "    N = size(M)[1]\n",
    "\n",
    "    E = 0\n",
    "\n",
    "    for i=2:N-1\n",
    "        for j=2:N-1\n",
    "            s = M[i,j]\n",
    "            E += -M[i,j]*(M[i+1,j] + M[i,j+1] + M[i-1,j] + M[i,j-1]) #neighbour(M,(i,j))\n",
    "        end\n",
    "    end\n",
    "\n",
    "    return -J*(E)/2\n",
    "end\n"
   ]
  },
  {
   "cell_type": "code",
   "execution_count": 2,
   "metadata": {},
   "outputs": [
    {
     "data": {
      "text/plain": [
       "neighbour (generic function with 1 method)"
      ]
     },
     "execution_count": 2,
     "metadata": {},
     "output_type": "execute_result"
    }
   ],
   "source": [
    "function neighbour(M,(a,b))\n",
    "    return M[a+1,b] + M[a,b+1] + M[a-1,b] + M[a,b-1]\n",
    "end"
   ]
  },
  {
   "cell_type": "code",
   "execution_count": 3,
   "metadata": {},
   "outputs": [],
   "source": [
    "#print(size( rand((-1,1),(100,100))))"
   ]
  },
  {
   "cell_type": "code",
   "execution_count": 49,
   "metadata": {},
   "outputs": [
    {
     "data": {
      "text/plain": [
       "magnetization (generic function with 1 method)"
      ]
     },
     "execution_count": 49,
     "metadata": {},
     "output_type": "execute_result"
    }
   ],
   "source": [
    "function magnetization(M)\n",
    "    m = 0\n",
    "    len_lat = size(M)[1]\n",
    "    for i=2:len_lat-1\n",
    "        for j=2:len_lat-1\n",
    "            m+=M[i,j]\n",
    "        end\n",
    "    end\n",
    "    return abs(m)\n",
    "end\n"
   ]
  },
  {
   "cell_type": "code",
   "execution_count": 5,
   "metadata": {},
   "outputs": [
    {
     "name": "stdout",
     "output_type": "stream",
     "text": [
      "[1 1 -1 1 1 1 1 1 1 -1; 1 -1 1 1 1 -1 1 1 -1 1; 1 -1 1 -1 1 -1 -1 -1 -1 1; 1 -1 1 1 1 1 1 -1 1 -1; 1 1 1 -1 -1 -1 -1 -1 1 1; -1 1 1 1 1 1 1 1 1 -1; -1 1 1 -1 1 1 -1 1 1 1; 1 -1 1 1 1 -1 -1 1 1 1; -1 1 1 1 1 1 -1 1 1 1; 1 -1 1 -1 -1 -1 -1 1 -1 1]20.0"
     ]
    }
   ],
   "source": [
    "lat_1 = rand((-1,1),(10,10))\n",
    "print(lat_1)\n",
    "print(magnetization(lat_1))"
   ]
  },
  {
   "cell_type": "code",
   "execution_count": 56,
   "metadata": {},
   "outputs": [
    {
     "data": {
      "text/plain": [
       "monte (generic function with 1 method)"
      ]
     },
     "execution_count": 56,
     "metadata": {},
     "output_type": "execute_result"
    }
   ],
   "source": [
    "function minimum_ele(M)\n",
    "    if M[1] > M[2]\n",
    "        return M[2]\n",
    "    else\n",
    "        return M[1]\n",
    "    end        \n",
    "end\n",
    "\n",
    "function monte(M, Temperature)\n",
    "    N = size(M)[1]\n",
    "    \n",
    "    time_steps = 10^4\n",
    "    \n",
    "    for i = 1:time_steps\n",
    "            a = rand((2:N-1)) #random number\n",
    "            b = rand((2:N-1)) #random number\n",
    "            \n",
    "            spin = M[a,b]\n",
    "            \n",
    "            dE = 2*spin*neighbour(M,(a,b))\n",
    "            \n",
    "            tent = minimum_ele([1.0, exp(-dE/Temperature)])\n",
    "            prob = rand() # rand no between 0 1 uniformly distributed\n",
    "            \n",
    "            if tent > prob\n",
    "                spin = -1*spin\n",
    "            else\n",
    "                spin = spin\n",
    "            #M[a] = spin\n",
    "            end\n",
    "            M[a,b] = spin\n",
    "            #println(M)\n",
    "    end\n",
    "    return M\n",
    "end\n"
   ]
  },
  {
   "cell_type": "code",
   "execution_count": 73,
   "metadata": {},
   "outputs": [
    {
     "data": {
      "text/plain": [
       "main (generic function with 2 methods)"
      ]
     },
     "execution_count": 73,
     "metadata": {},
     "output_type": "execute_result"
    }
   ],
   "source": [
    "function main(temp_array)\n",
    "    Pts = 35 #no. of points on Energy-Temp graph\n",
    "\n",
    "    Erg_array = zeros(Pts,1) #LinRange(0.001,5,Pts)\n",
    "    Mag_array = zeros(Pts,1) #LinRange(0.001,5,Pts)\n",
    "\n",
    "    for i=1:Pts\n",
    "        print(i, \" \")\n",
    "        N = 9 #??\n",
    "        Lat = rand((-1,1),(100,100))\n",
    "        magn_cal = 0\n",
    "        erg_cal = 0\n",
    "        leng_lat = 2:size(Lat,1)-1\n",
    "        fc = 2^N\n",
    "        for j=1:2^N\n",
    "            Lat = monte(Lat,temp_array[i])\n",
    "            magn_cal+=magnetization(Lat[leng_lat,leng_lat])/fc\n",
    "            erg_cal+=energy(Lat[leng_lat,leng_lat])/fc\n",
    "        end\n",
    "        Mag_array[i] = magn_cal/(100^2)\n",
    "        Erg_array[i] = erg_cal/(100^2)\n",
    "    end\n",
    "    return Mag_array, Erg_array\n",
    "end"
   ]
  },
  {
   "cell_type": "code",
   "execution_count": 89,
   "metadata": {},
   "outputs": [
    {
     "data": {
      "text/plain": [
       "exact_C (generic function with 1 method)"
      ]
     },
     "execution_count": 89,
     "metadata": {},
     "output_type": "execute_result"
    }
   ],
   "source": [
    "using PyPlot\n",
    "#Ts = range(0.1, 1.5, length=100)\n",
    "#exact_C(T) = 1/(T * cosh(1/T))^2\n",
    "exact_C(T) = -2tanh(2/T)\n"
   ]
  },
  {
   "cell_type": "code",
   "execution_count": 67,
   "metadata": {},
   "outputs": [
    {
     "data": {
      "text/plain": [
       "35-element LinRange{Float64}:\n",
       " 0.001,0.103912,0.206824,0.309735,…,3.08835,3.19126,3.29418,3.39709,3.5"
      ]
     },
     "execution_count": 67,
     "metadata": {},
     "output_type": "execute_result"
    }
   ],
   "source": [
    "Pts = 35 #no. of points on Energy-Temp graph\n",
    "\n",
    "temp_array = LinRange(0.001,3.5,Pts)\n"
   ]
  },
  {
   "cell_type": "code",
   "execution_count": 75,
   "metadata": {},
   "outputs": [
    {
     "name": "stdout",
     "output_type": "stream",
     "text": [
      "1 2 3 4 5 6 7 8 9 10 11 12 13 14 15 16 17 18 19 20 21 22 23 24 25 26 27 28 29 30 31 32 33 34 35 "
     ]
    },
    {
     "data": {
      "text/plain": [
       "([0.36305859375; 0.44938515625; … ; 0.02164765625; 0.01882890625], [-1.76142734375; -1.7684791015625; … ; -0.6323818359375; -0.6061435546875])"
      ]
     },
     "execution_count": 75,
     "metadata": {},
     "output_type": "execute_result"
    }
   ],
   "source": [
    "tent_arra = main(temp_array)\n",
    "M_arra, E_arra = tent_arra[1], tent_arra[2]"
   ]
  },
  {
   "cell_type": "code",
   "execution_count": 91,
   "metadata": {},
   "outputs": [
    {
     "data": {
      "image/png": "[encoded data removed]",
      "text/plain": [
       "Figure(PyObject <Figure size 640x480 with 1 Axes>)"
      ]
     },
     "metadata": {},
     "output_type": "display_data"
    },
    {
     "data": {
      "text/plain": [
       "PyObject <matplotlib.legend.Legend object at 0x7fda54bac130>"
      ]
     },
     "execution_count": 91,
     "metadata": {},
     "output_type": "execute_result"
    }
   ],
   "source": [
    "Ts = temp_array\n",
    "#plt.plot(Ts, exact_C.(Ts), label=\"Exact\")\n",
    "plt.plot(temp_array, E_arra, label=\"Erg_MC\", marker=\"o\")\n",
    "#plt.plot(temp_array, M_arra, label=\"Mag_MC\", marker=\"v\")\n",
    "\n",
    "plt.xlabel(raw\"$T$\")\n",
    "plt.ylabel(raw\"$f(T)$\")\n",
    "#plt.xlim([0, nothing])\n",
    "#plt.ylim([0, nothing])\n",
    "plt.legend()\n"
   ]
  }
 ],
 "metadata": {
  "kernelspec": {
   "display_name": "Julia 1.4.1",
   "language": "julia",
   "name": "julia-1.4"
  },
  "language_info": {
   "file_extension": ".jl",
   "mimetype": "application/julia",
   "name": "julia",
   "version": "1.4.1"
  }
 },
 "nbformat": 4,
 "nbformat_minor": 4
}
